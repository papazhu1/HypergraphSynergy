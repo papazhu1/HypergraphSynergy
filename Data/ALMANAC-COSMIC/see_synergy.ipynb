{
 "cells": [
  {
   "cell_type": "code",
   "execution_count": 6,
   "metadata": {
    "collapsed": true,
    "ExecuteTime": {
     "end_time": "2024-04-19T08:26:49.870186Z",
     "start_time": "2024-04-19T08:26:49.835042Z"
    }
   },
   "outputs": [
    {
     "name": "stdout",
     "output_type": "stream",
     "text": [
      "   drug0  drug1  cline  synergy\n",
      "0      1     43    139   -706.0\n",
      "1      1     57    139   -662.0\n",
      "2      1     81    139   -660.0\n",
      "3      1     50    139   -642.0\n",
      "4      1     48    139   -606.0\n"
     ]
    }
   ],
   "source": [
    "import pandas as pd\n",
    "import numpy as np\n",
    "\n",
    "synergy = pd.read_csv('synergy.csv')\n",
    "print(synergy.head())"
   ]
  },
  {
   "cell_type": "code",
   "execution_count": null,
   "outputs": [],
   "source": [],
   "metadata": {
    "collapsed": false
   }
  },
  {
   "cell_type": "code",
   "execution_count": null,
   "outputs": [
    {
     "name": "stderr",
     "output_type": "stream",
     "text": [
      "/var/folders/nh/wwy8_3vs2tj7zp23_03pkxmc0000gn/T/ipykernel_25024/1782672453.py:8: SettingWithCopyWarning: \n",
      "A value is trying to be set on a copy of a slice from a DataFrame\n",
      "\n",
      "See the caveats in the documentation: https://pandas.pydata.org/pandas-docs/stable/user_guide/indexing.html#returning-a-view-versus-a-copy\n",
      "  data_0.iloc[0], data_0.iloc[1] = data_0.iloc[1], data_0.iloc[0]\n",
      "/var/folders/nh/wwy8_3vs2tj7zp23_03pkxmc0000gn/T/ipykernel_25024/1782672453.py:12: SettingWithCopyWarning: \n",
      "A value is trying to be set on a copy of a slice from a DataFrame\n",
      "\n",
      "See the caveats in the documentation: https://pandas.pydata.org/pandas-docs/stable/user_guide/indexing.html#returning-a-view-versus-a-copy\n",
      "  data_0.iloc[0], data_0.iloc[1] = data_0.iloc[1], data_0.iloc[0]\n"
     ]
    }
   ],
   "source": [
    "from collections import Counter\n",
    "# print(sorted(synergy['drug0'].unique()))\n",
    "# print(sorted(synergy['drug1'].unique()))\n",
    "\n",
    "# 将drug0和drug1的值颠倒并加上cline看看是否有重复\n",
    "except_res = synergy[['drug1', 'drug0', 'cline']]\n",
    "data_0 = synergy.iloc[0, :]\n",
    "data_0.iloc[0], data_0.iloc[1] = data_0.iloc[1], data_0.iloc[0]\n",
    "# print(data_0)\n",
    "for i in range(len(synergy)):\n",
    "    data_0 = synergy.iloc[i, :]\n",
    "    data_0.iloc[0], data_0.iloc[1] = data_0.iloc[1], data_0.iloc[0]\n",
    "    for j in range(i+1, len(synergy)):\n",
    "        data_1 = synergy.iloc[j, :]\n",
    "        if data_0.equals(data_1):\n",
    "            print(i, j)\n",
    "            print(data_0)\n",
    "            print(data_1)\n"
   ],
   "metadata": {
    "collapsed": false,
    "is_executing": true,
    "ExecuteTime": {
     "start_time": "2024-04-19T11:10:33.341526Z"
    }
   }
  }
 ],
 "metadata": {
  "kernelspec": {
   "display_name": "Python 3",
   "language": "python",
   "name": "python3"
  },
  "language_info": {
   "codemirror_mode": {
    "name": "ipython",
    "version": 2
   },
   "file_extension": ".py",
   "mimetype": "text/x-python",
   "name": "python",
   "nbconvert_exporter": "python",
   "pygments_lexer": "ipython2",
   "version": "2.7.6"
  }
 },
 "nbformat": 4,
 "nbformat_minor": 0
}
